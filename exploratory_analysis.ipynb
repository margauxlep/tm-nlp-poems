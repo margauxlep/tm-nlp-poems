{
 "cells": [
  {
   "cell_type": "markdown",
   "id": "8602fcc1-d92c-4c62-bb1f-ff1f607022cb",
   "metadata": {},
   "source": [
    "# Poèmes humains et poèmes générés par ChatGPT : une analyse comparative"
   ]
  },
  {
   "cell_type": "markdown",
   "id": "8c926fc3-ca74-41bc-a73d-1c924c230d5b",
   "metadata": {},
   "source": [
    "## 1. Analyse exploratoire "
   ]
  },
  {
   "cell_type": "markdown",
   "id": "5e7b7652-e395-4b38-ae2d-1a3ecbde06f3",
   "metadata": {},
   "source": [
    "### 1.1 Importation des poèmes "
   ]
  },
  {
   "cell_type": "code",
   "execution_count": 2,
   "id": "19649237-079a-497e-9bfb-01d941ef50a6",
   "metadata": {},
   "outputs": [],
   "source": [
    "# useful imports \n",
    "import pandas as pd\n",
    "import glob"
   ]
  },
  {
   "cell_type": "code",
   "execution_count": 3,
   "id": "7ff5c6ce-d8d0-43e1-896d-e293732318b3",
   "metadata": {},
   "outputs": [],
   "source": [
    "# création de deux listes de fichiers\n",
    "human_poems = glob.glob('poems_humans/*.txt')\n",
    "chatgpt_poems = glob.glob('poems_chatGPT/*.txt')"
   ]
  },
  {
   "cell_type": "code",
   "execution_count": 4,
   "id": "13117fe8-c0ef-4add-be0e-8386957b2256",
   "metadata": {},
   "outputs": [],
   "source": [
    "# on supprime les deux fichiers template qui ne sont pas des poèmes \n",
    "human_poems.remove('poems_humans/z_temp.txt')\n",
    "chatgpt_poems.remove('poems_chatGPT/z_temp.txt')"
   ]
  },
  {
   "cell_type": "code",
   "execution_count": 5,
   "id": "e5a24f16-bc26-4fdc-84d9-a88b897f1982",
   "metadata": {},
   "outputs": [],
   "source": [
    "df_poems = pd.DataFrame(columns=['poem_text', 'human_machine'])"
   ]
  },
  {
   "cell_type": "code",
   "execution_count": 6,
   "id": "35543f92-2676-487f-922e-7e6d62910293",
   "metadata": {},
   "outputs": [],
   "source": [
    "# insertion des poèmes dans une dataframe.\n",
    "for idx, poem_f in enumerate(human_poems):\n",
    "    poem_lines = open(poem_f, 'r').readlines()\n",
    "    poem = \"\"\n",
    "    for verse in poem_lines:\n",
    "        poem += verse\n",
    "    \n",
    "    df_poems.loc[idx, 'poem_text'] = poem\n",
    "    # création d'une colonne \"human_machine\" qui spécifie si le poème vient d'un humain ou d'une machine\n",
    "    df_poems.loc[idx, 'human_machine'] = 'H'"
   ]
  },
  {
   "cell_type": "code",
   "execution_count": 7,
   "id": "851d092e-9b48-48b3-bdad-f9d64cc8ca30",
   "metadata": {},
   "outputs": [],
   "source": [
    "for idx, poem_f in enumerate(chatgpt_poems):\n",
    "    poem_lines = open(poem_f, 'r').readlines()\n",
    "    poem = \"\"\n",
    "    for verse in poem_lines:\n",
    "        poem += verse  \n",
    "    df_poems.loc[idx +50, 'poem_text'] = poem\n",
    "    df_poems.loc[idx +50, 'human_machine'] = 'M'"
   ]
  },
  {
   "cell_type": "code",
   "execution_count": 8,
   "id": "5478054e-b8e4-4120-b1a5-d6be32e908d2",
   "metadata": {},
   "outputs": [
    {
     "data": {
      "text/plain": [
       "100"
      ]
     },
     "execution_count": 8,
     "metadata": {},
     "output_type": "execute_result"
    }
   ],
   "source": [
    "len(df_poems.index)"
   ]
  },
  {
   "cell_type": "code",
   "execution_count": 9,
   "id": "a786f0d9-dd3a-48a7-9ad3-cf7a0619b53f",
   "metadata": {},
   "outputs": [
    {
     "data": {
      "text/html": [
       "<div>\n",
       "<style scoped>\n",
       "    .dataframe tbody tr th:only-of-type {\n",
       "        vertical-align: middle;\n",
       "    }\n",
       "\n",
       "    .dataframe tbody tr th {\n",
       "        vertical-align: top;\n",
       "    }\n",
       "\n",
       "    .dataframe thead th {\n",
       "        text-align: right;\n",
       "    }\n",
       "</style>\n",
       "<table border=\"1\" class=\"dataframe\">\n",
       "  <thead>\n",
       "    <tr style=\"text-align: right;\">\n",
       "      <th></th>\n",
       "      <th>poem_text</th>\n",
       "      <th>human_machine</th>\n",
       "    </tr>\n",
       "  </thead>\n",
       "  <tbody>\n",
       "    <tr>\n",
       "      <th>34</th>\n",
       "      <td>Quand j'étais jeune et fier et que j'ouvrais m...</td>\n",
       "      <td>H</td>\n",
       "    </tr>\n",
       "    <tr>\n",
       "      <th>83</th>\n",
       "      <td>L'horizon fuit et le soleil s'éteint,\\nLes omb...</td>\n",
       "      <td>M</td>\n",
       "    </tr>\n",
       "    <tr>\n",
       "      <th>81</th>\n",
       "      <td>Dans l'obscurité de la nuit profonde,\\nLe vent...</td>\n",
       "      <td>M</td>\n",
       "    </tr>\n",
       "    <tr>\n",
       "      <th>0</th>\n",
       "      <td>Je ne viens pas ce soir vaincre ton corps, ô b...</td>\n",
       "      <td>H</td>\n",
       "    </tr>\n",
       "    <tr>\n",
       "      <th>46</th>\n",
       "      <td>Nous aurons des lits pleins d'odeurs légères,\\...</td>\n",
       "      <td>H</td>\n",
       "    </tr>\n",
       "    <tr>\n",
       "      <th>19</th>\n",
       "      <td>Tandis que les crachats rouges de la mitraille...</td>\n",
       "      <td>H</td>\n",
       "    </tr>\n",
       "    <tr>\n",
       "      <th>96</th>\n",
       "      <td>Dans les cieux, les étoiles brillent en chœur,...</td>\n",
       "      <td>M</td>\n",
       "    </tr>\n",
       "    <tr>\n",
       "      <th>69</th>\n",
       "      <td>Je laisse mon stylo courir sur la feuille blan...</td>\n",
       "      <td>M</td>\n",
       "    </tr>\n",
       "    <tr>\n",
       "      <th>35</th>\n",
       "      <td>Que l’on soit homme ou Dieu, tout génie est ma...</td>\n",
       "      <td>H</td>\n",
       "    </tr>\n",
       "    <tr>\n",
       "      <th>77</th>\n",
       "      <td>Ô vieux buffet de chêne, mélancolique écrin,\\n...</td>\n",
       "      <td>M</td>\n",
       "    </tr>\n",
       "  </tbody>\n",
       "</table>\n",
       "</div>"
      ],
      "text/plain": [
       "                                            poem_text human_machine\n",
       "34  Quand j'étais jeune et fier et que j'ouvrais m...             H\n",
       "83  L'horizon fuit et le soleil s'éteint,\\nLes omb...             M\n",
       "81  Dans l'obscurité de la nuit profonde,\\nLe vent...             M\n",
       "0   Je ne viens pas ce soir vaincre ton corps, ô b...             H\n",
       "46  Nous aurons des lits pleins d'odeurs légères,\\...             H\n",
       "19  Tandis que les crachats rouges de la mitraille...             H\n",
       "96  Dans les cieux, les étoiles brillent en chœur,...             M\n",
       "69  Je laisse mon stylo courir sur la feuille blan...             M\n",
       "35  Que l’on soit homme ou Dieu, tout génie est ma...             H\n",
       "77  Ô vieux buffet de chêne, mélancolique écrin,\\n...             M"
      ]
     },
     "execution_count": 9,
     "metadata": {},
     "output_type": "execute_result"
    }
   ],
   "source": [
    "df_poems.sample(10)"
   ]
  },
  {
   "cell_type": "markdown",
   "id": "53b9c0e6-a2d1-43c6-b5dc-56cfe5d53c06",
   "metadata": {},
   "source": [
    "### 1.2 Pre-processing du texte "
   ]
  },
  {
   "cell_type": "code",
   "execution_count": 10,
   "id": "75014908-7e22-4aac-aa52-4b0c5fa502af",
   "metadata": {},
   "outputs": [],
   "source": [
    "df_poems_backup = df_poems.copy()"
   ]
  },
  {
   "cell_type": "code",
   "execution_count": 11,
   "id": "24d4a6d7-5c91-4caf-a403-00c2c1aaed31",
   "metadata": {},
   "outputs": [
    {
     "data": {
      "text/html": [
       "<div>\n",
       "<style scoped>\n",
       "    .dataframe tbody tr th:only-of-type {\n",
       "        vertical-align: middle;\n",
       "    }\n",
       "\n",
       "    .dataframe tbody tr th {\n",
       "        vertical-align: top;\n",
       "    }\n",
       "\n",
       "    .dataframe thead th {\n",
       "        text-align: right;\n",
       "    }\n",
       "</style>\n",
       "<table border=\"1\" class=\"dataframe\">\n",
       "  <thead>\n",
       "    <tr style=\"text-align: right;\">\n",
       "      <th></th>\n",
       "      <th>poem_text</th>\n",
       "      <th>human_machine</th>\n",
       "      <th>reference</th>\n",
       "    </tr>\n",
       "  </thead>\n",
       "  <tbody>\n",
       "    <tr>\n",
       "      <th>0</th>\n",
       "      <td>Je ne viens pas ce soir vaincre ton corps, ô b...</td>\n",
       "      <td>H</td>\n",
       "      <td></td>\n",
       "    </tr>\n",
       "    <tr>\n",
       "      <th>1</th>\n",
       "      <td>gargarisme astronomique\\nvibre vibre vibre vib...</td>\n",
       "      <td>H</td>\n",
       "      <td></td>\n",
       "    </tr>\n",
       "    <tr>\n",
       "      <th>2</th>\n",
       "      <td>Ô rare fleur, ô fleur de luxe et de décor,\\nSu...</td>\n",
       "      <td>H</td>\n",
       "      <td></td>\n",
       "    </tr>\n",
       "    <tr>\n",
       "      <th>3</th>\n",
       "      <td>Le ballon bleu de la pendule\\nEt les petits ni...</td>\n",
       "      <td>H</td>\n",
       "      <td></td>\n",
       "    </tr>\n",
       "    <tr>\n",
       "      <th>4</th>\n",
       "      <td>Sur les murs des petits bourgs, des hameaux pe...</td>\n",
       "      <td>H</td>\n",
       "      <td></td>\n",
       "    </tr>\n",
       "  </tbody>\n",
       "</table>\n",
       "</div>"
      ],
      "text/plain": [
       "                                           poem_text human_machine reference\n",
       "0  Je ne viens pas ce soir vaincre ton corps, ô b...             H          \n",
       "1  gargarisme astronomique\\nvibre vibre vibre vib...             H          \n",
       "2  Ô rare fleur, ô fleur de luxe et de décor,\\nSu...             H          \n",
       "3  Le ballon bleu de la pendule\\nEt les petits ni...             H          \n",
       "4  Sur les murs des petits bourgs, des hameaux pe...             H          "
      ]
     },
     "execution_count": 11,
     "metadata": {},
     "output_type": "execute_result"
    }
   ],
   "source": [
    "df_poems['reference'] = ''\n",
    "df_poems.head()"
   ]
  },
  {
   "cell_type": "code",
   "execution_count": 12,
   "id": "4923bc20-2ecb-43a2-bbfa-6f4e140f53c4",
   "metadata": {},
   "outputs": [
    {
     "data": {
      "text/html": [
       "<div>\n",
       "<style scoped>\n",
       "    .dataframe tbody tr th:only-of-type {\n",
       "        vertical-align: middle;\n",
       "    }\n",
       "\n",
       "    .dataframe tbody tr th {\n",
       "        vertical-align: top;\n",
       "    }\n",
       "\n",
       "    .dataframe thead th {\n",
       "        text-align: right;\n",
       "    }\n",
       "</style>\n",
       "<table border=\"1\" class=\"dataframe\">\n",
       "  <thead>\n",
       "    <tr style=\"text-align: right;\">\n",
       "      <th></th>\n",
       "      <th>poem_text</th>\n",
       "      <th>human_machine</th>\n",
       "      <th>reference</th>\n",
       "    </tr>\n",
       "  </thead>\n",
       "  <tbody>\n",
       "    <tr>\n",
       "      <th>0</th>\n",
       "      <td>Je ne viens pas ce soir vaincre ton corps, ô b...</td>\n",
       "      <td>H</td>\n",
       "      <td>Stéphane Mallarmé, Angoisse</td>\n",
       "    </tr>\n",
       "    <tr>\n",
       "      <th>1</th>\n",
       "      <td>gargarisme astronomique\\nvibre vibre vibre vib...</td>\n",
       "      <td>H</td>\n",
       "      <td>Tristan Tzara, Mouvement</td>\n",
       "    </tr>\n",
       "    <tr>\n",
       "      <th>2</th>\n",
       "      <td>Ô rare fleur, ô fleur de luxe et de décor,\\nSu...</td>\n",
       "      <td>H</td>\n",
       "      <td>François Coppée, Poèmes divers, 1869</td>\n",
       "    </tr>\n",
       "    <tr>\n",
       "      <th>3</th>\n",
       "      <td>Le ballon bleu de la pendule\\nEt les petits ni...</td>\n",
       "      <td>H</td>\n",
       "      <td>André Breton, Titre</td>\n",
       "    </tr>\n",
       "    <tr>\n",
       "      <th>4</th>\n",
       "      <td>Sur les murs des petits bourgs, des hameaux pe...</td>\n",
       "      <td>H</td>\n",
       "      <td>André Breton, Constellation</td>\n",
       "    </tr>\n",
       "  </tbody>\n",
       "</table>\n",
       "</div>"
      ],
      "text/plain": [
       "                                           poem_text human_machine  \\\n",
       "0  Je ne viens pas ce soir vaincre ton corps, ô b...             H   \n",
       "1  gargarisme astronomique\\nvibre vibre vibre vib...             H   \n",
       "2  Ô rare fleur, ô fleur de luxe et de décor,\\nSu...             H   \n",
       "3  Le ballon bleu de la pendule\\nEt les petits ni...             H   \n",
       "4  Sur les murs des petits bourgs, des hameaux pe...             H   \n",
       "\n",
       "                              reference  \n",
       "0           Stéphane Mallarmé, Angoisse  \n",
       "1              Tristan Tzara, Mouvement  \n",
       "2  François Coppée, Poèmes divers, 1869  \n",
       "3                   André Breton, Titre  \n",
       "4           André Breton, Constellation  "
      ]
     },
     "execution_count": 12,
     "metadata": {},
     "output_type": "execute_result"
    }
   ],
   "source": [
    "# enlever la dernière ligne des poemes humains et la store dans une nouvelle colonne \"reference\" \n",
    "for idx, poem in enumerate(df_poems.poem_text):\n",
    "    splt= poem.rsplit(\"\\n\", 1)\n",
    "    df_poems.loc[idx, 'reference'] = splt[1]\n",
    "    df_poems.loc[idx, 'poem_text'] = splt[0]\n",
    "\n",
    "df_poems.head()"
   ]
  },
  {
   "cell_type": "code",
   "execution_count": 13,
   "id": "8d021ff8-5a00-40a6-bd16-dd43911a9c3f",
   "metadata": {},
   "outputs": [
    {
     "data": {
      "text/html": [
       "<div>\n",
       "<style scoped>\n",
       "    .dataframe tbody tr th:only-of-type {\n",
       "        vertical-align: middle;\n",
       "    }\n",
       "\n",
       "    .dataframe tbody tr th {\n",
       "        vertical-align: top;\n",
       "    }\n",
       "\n",
       "    .dataframe thead th {\n",
       "        text-align: right;\n",
       "    }\n",
       "</style>\n",
       "<table border=\"1\" class=\"dataframe\">\n",
       "  <thead>\n",
       "    <tr style=\"text-align: right;\">\n",
       "      <th></th>\n",
       "      <th>poem_text</th>\n",
       "      <th>human_machine</th>\n",
       "      <th>reference</th>\n",
       "    </tr>\n",
       "  </thead>\n",
       "  <tbody>\n",
       "    <tr>\n",
       "      <th>1</th>\n",
       "      <td>gargarisme astronomique\\nvibre vibre vibre vib...</td>\n",
       "      <td>H</td>\n",
       "      <td>Tristan Tzara, Mouvement</td>\n",
       "    </tr>\n",
       "    <tr>\n",
       "      <th>80</th>\n",
       "      <td>Aux bords d'un lac de montagne, au soleil couc...</td>\n",
       "      <td>M</td>\n",
       "      <td>ChatGPT</td>\n",
       "    </tr>\n",
       "    <tr>\n",
       "      <th>3</th>\n",
       "      <td>Le ballon bleu de la pendule\\nEt les petits ni...</td>\n",
       "      <td>H</td>\n",
       "      <td>André Breton, Titre</td>\n",
       "    </tr>\n",
       "    <tr>\n",
       "      <th>45</th>\n",
       "      <td>Ils me disent, tes yeux, clairs comme le crist...</td>\n",
       "      <td>H</td>\n",
       "      <td>Charles Baudelaire, Sonnet d'automne</td>\n",
       "    </tr>\n",
       "    <tr>\n",
       "      <th>72</th>\n",
       "      <td>La belle de mes rêves, où es-tu cachée ?\\nDans...</td>\n",
       "      <td>M</td>\n",
       "      <td>ChatGPT</td>\n",
       "    </tr>\n",
       "  </tbody>\n",
       "</table>\n",
       "</div>"
      ],
      "text/plain": [
       "                                            poem_text human_machine  \\\n",
       "1   gargarisme astronomique\\nvibre vibre vibre vib...             H   \n",
       "80  Aux bords d'un lac de montagne, au soleil couc...             M   \n",
       "3   Le ballon bleu de la pendule\\nEt les petits ni...             H   \n",
       "45  Ils me disent, tes yeux, clairs comme le crist...             H   \n",
       "72  La belle de mes rêves, où es-tu cachée ?\\nDans...             M   \n",
       "\n",
       "                               reference  \n",
       "1               Tristan Tzara, Mouvement  \n",
       "80                               ChatGPT  \n",
       "3                    André Breton, Titre  \n",
       "45  Charles Baudelaire, Sonnet d'automne  \n",
       "72                               ChatGPT  "
      ]
     },
     "execution_count": 13,
     "metadata": {},
     "output_type": "execute_result"
    }
   ],
   "source": [
    "# attribuer la valeur \"chatGPT\" à toutes les cellules de du subset \"Machine\" pour la colonne \"reference\"\n",
    "\n",
    "for idx, row in df_poems.iterrows():\n",
    "    if row.human_machine == 'M':\n",
    "        df_poems.loc[idx, 'reference'] = 'ChatGPT'\n",
    "\n",
    "df_poems.sample(5)\n"
   ]
  },
  {
   "cell_type": "code",
   "execution_count": 14,
   "id": "4866540e-bb3f-479f-9817-76dd4d4b34d5",
   "metadata": {},
   "outputs": [
    {
     "data": {
      "text/plain": [
       "'Je ne viens pas ce soir vaincre ton corps, ô bête\\nEn qui vont les péchés d’un peuple, ni creuser\\nDans tes cheveux impurs une triste tempête\\nSous l’incurable ennui que verse mon baiser:\\n\\nJe demande à ton lit le lourd sommeil sans songes\\nPlanant sous les rideaux inconnus du remords,\\nEt que tu peux goûter après tes noirs mensonges,\\nToi qui sur le néant en sais plus que les morts:\\n\\nCar le Vice, rongeant ma native noblesse,\\nM’a comme toi marqué de sa stérilité,\\nMais tandis que ton sein de pierre est habité\\n\\nPar un coeur que la dent d’aucun crime ne blesse,\\nJe fuis, pâle, défait, hanté par mon linceul,\\nAyant peur de mourir lorsque je couche seul.\\n'"
      ]
     },
     "execution_count": 14,
     "metadata": {},
     "output_type": "execute_result"
    }
   ],
   "source": [
    "df_poems.poem_text[0]"
   ]
  },
  {
   "cell_type": "markdown",
   "id": "bf8ae61c-a125-4258-b6df-9a5bd6da93ab",
   "metadata": {},
   "source": [
    "Now, we want to tokenize the poem texts for further analysis."
   ]
  },
  {
   "cell_type": "code",
   "execution_count": 15,
   "id": "c6bb0326-eb66-4611-833f-ef6ffd7fc914",
   "metadata": {},
   "outputs": [],
   "source": [
    "import spacy\n",
    "#nlp = spacy.load('en_core_web_sm')\n",
    "\n",
    "# HAVING TROUBLE WITH SPACY : WILL COME BACK TO IT LATER"
   ]
  },
  {
   "cell_type": "code",
   "execution_count": 16,
   "id": "8d0bfde4-6b1a-448f-8d7e-c5cb023b9951",
   "metadata": {},
   "outputs": [
    {
     "name": "stderr",
     "output_type": "stream",
     "text": [
      "/Library/Frameworks/Python.framework/Versions/3.9/lib/python3.9/site-packages/past/builtins/misc.py:45: DeprecationWarning: the imp module is deprecated in favour of importlib; see the module's documentation for alternative uses\n",
      "  from imp import reload\n"
     ]
    }
   ],
   "source": [
    "#NLP libraries\n",
    "import spacy, nltk, gensim, sklearn\n",
    "import pyLDAvis.gensim_models"
   ]
  },
  {
   "cell_type": "code",
   "execution_count": 17,
   "id": "1f61bacb-9bca-4311-800a-eeddc71ebc46",
   "metadata": {},
   "outputs": [
    {
     "name": "stdout",
     "output_type": "stream",
     "text": [
      "Poem 1 tokenized:\n",
      "['je', 'ne', 'viens', 'pas', 'ce', 'soir', 'vaincre', 'ton', 'corps', ',', 'ô', 'bête', 'en', 'qui', 'vont', 'les', 'péchés', 'd', '’', 'un', 'peuple', ',', 'ni', 'creuser', 'dans', 'tes', 'cheveux', 'impurs', 'une', 'triste', 'tempête', 'sous', 'l', '’', 'incurable', 'ennui', 'que', 'verse', 'mon', 'baiser', ':', 'je', 'demande', 'à', 'ton', 'lit', 'le', 'lourd', 'sommeil', 'sans', 'songes', 'planant', 'sous', 'les', 'rideaux', 'inconnus', 'du', 'remords', ',', 'et', 'que', 'tu', 'peux', 'goûter', 'après', 'tes', 'noirs', 'mensonges', ',', 'toi', 'qui', 'sur', 'le', 'néant', 'en', 'sais', 'plus', 'que', 'les', 'morts', ':', 'car', 'le', 'vice', ',', 'rongeant', 'ma', 'native', 'noblesse', ',', 'm', '’', 'a', 'comme', 'toi', 'marqué', 'de', 'sa', 'stérilité', ',', 'mais', 'tandis', 'que', 'ton', 'sein', 'de', 'pierre', 'est', 'habité', 'par', 'un', 'coeur', 'que', 'la', 'dent', 'd', '’', 'aucun', 'crime', 'ne', 'blesse', ',', 'je', 'fuis', ',', 'pâle', ',', 'défait', ',', 'hanté', 'par', 'mon', 'linceul', ',', 'ayant', 'peur', 'de', 'mourir', 'lorsque', 'je', 'couche', 'seul', '.']\n"
     ]
    },
    {
     "name": "stderr",
     "output_type": "stream",
     "text": [
      "[nltk_data] Downloading package punkt to\n",
      "[nltk_data]     /Users/margauxleplattenier/nltk_data...\n",
      "[nltk_data]   Package punkt is already up-to-date!\n"
     ]
    }
   ],
   "source": [
    "# download the Punkt tokenizer\n",
    "nltk.download('punkt')\n",
    "\n",
    "# create a list of all poems\n",
    "poems = df_poems.poem_text\n",
    "\n",
    "# create a list of the tokenized poems \n",
    "tokenized_poems = []\n",
    "\n",
    "# remove the \\n \n",
    "for poem in poems:\n",
    "    # remove newlines and convert to lowercase\n",
    "    poem = poem.replace('\\n', ' ').lower()\n",
    "    # tokenize the poem using NLTK's Punkt tokenizer\n",
    "    tokens = nltk.tokenize.word_tokenize(poem)\n",
    "    # add the tokenized poem to the list\n",
    "    tokenized_poems.append(tokens)\n",
    "    \n",
    "print(f\"Poem 1 tokenized:\")\n",
    "print(tokenized_poems[0])"
   ]
  },
  {
   "cell_type": "code",
   "execution_count": 18,
   "id": "9142e1f9-d268-4b16-9a32-1cccd2e93233",
   "metadata": {},
   "outputs": [
    {
     "name": "stdout",
     "output_type": "stream",
     "text": [
      "Poem 1 after stopwords removal:\n",
      "['viens', 'soir', 'vaincre', 'corps', 'ô', 'bête', 'vont', 'péchés', 'peuple', 'ni', 'creuser', 'cheveux', 'impurs', 'triste', 'tempête', 'sous', 'incurable', 'ennui', 'verse', 'baiser', 'demande', 'lit', 'lourd', 'sommeil', 'sans', 'songes', 'planant', 'sous', 'rideaux', 'inconnus', 'remords', 'peux', 'goûter', 'après', 'noirs', 'mensonges', 'néant', 'sais', 'plus', 'morts', 'car', 'vice', 'rongeant', 'native', 'noblesse', 'a', 'comme', 'marqué', 'stérilité', 'tandis', 'sein', 'pierre', 'habité', 'coeur', 'dent', 'aucun', 'crime', 'blesse', 'fuis', 'pâle', 'défait', 'hanté', 'linceul', 'peur', 'mourir', 'lorsque', 'couche', 'seul']\n"
     ]
    }
   ],
   "source": [
    "# removal of stop words\n",
    "import string\n",
    "\n",
    "stopwords = set(nltk.corpus.stopwords.words('french'))\n",
    "\n",
    "filtered_poems = []\n",
    "\n",
    "for tokenized_poem in tokenized_poems:\n",
    "    filtered_poem = [w for w in tokenized_poem if not w in stopwords and not w in string.punctuation and w != '’']\n",
    "    filtered_poems.append(filtered_poem)\n",
    "\n",
    "print(f\"Poem 1 after stopwords removal:\")\n",
    "print(filtered_poems[0])"
   ]
  },
  {
   "cell_type": "code",
   "execution_count": null,
   "id": "389ed003-111c-471b-ba2a-da9556890055",
   "metadata": {},
   "outputs": [],
   "source": [
    "# TO DO : lemmatization ! "
   ]
  },
  {
   "cell_type": "markdown",
   "id": "6b54a899-5698-4884-af05-f69017c6e6d5",
   "metadata": {},
   "source": [
    "### 1.3 Variabilité du vocabulaire \n",
    "\n",
    "Pour cette partie, nous voulons tester la variabilité du vocabulaire des poèmes de notre dataset. \n",
    "Nous allons commencer par observer la distribution générale des mots. \n",
    "Nous avons au préalable (section 1.2) enlevé les \"stopwords\", à savoir les mots les plus courant, au contenu sémantique très faible comme \"et\", \"je\", \"est\", \"ai\", etc."
   ]
  },
  {
   "cell_type": "code",
   "execution_count": 19,
   "id": "e5fb328b-14b2-4ac6-9560-06f4d1f1ee92",
   "metadata": {},
   "outputs": [],
   "source": [
    "# creation d'un dictionnaire pour contenir tout les mots et leur nombre d'occurrences total.\n",
    "words = dict()\n",
    "\n",
    "all_tokens = []\n",
    "\n",
    "for tokens in filtered_poems:\n",
    "    all_tokens += tokens\n",
    "\n",
    "for token in all_tokens:\n",
    "    if token not in words.keys():\n",
    "        words[token] = 1\n",
    "    else:\n",
    "        words[token] += 1"
   ]
  },
  {
   "cell_type": "code",
   "execution_count": 20,
   "id": "1b5e801f-725d-4f25-a839-fa208032e3a5",
   "metadata": {},
   "outputs": [
    {
     "data": {
      "image/png": "[encoded data removed]",
      "text/plain": [
       "<Figure size 640x480 with 1 Axes>"
      ]
     },
     "metadata": {},
     "output_type": "display_data"
    }
   ],
   "source": [
    "# visualisation de la distribution totale des mots \n",
    "import matplotlib.pyplot as plt\n",
    "\n",
    "values = list(words.values())\n",
    "\n",
    "plt.hist(values, bins=100)\n",
    "\n",
    "# Add x and y axis labels and a title\n",
    "plt.xlabel(\"Nombre d'occurences des mots dans le corpus\")\n",
    "plt.ylabel('Nombre de mots à cette fréquence')\n",
    "plt.title('Distribution de la fréquence des mots')\n",
    "plt.yscale('log')\n",
    "\n",
    "# Show the plot\n",
    "plt.show()"
   ]
  },
  {
   "cell_type": "markdown",
   "id": "5a194e6b-aba9-42db-869f-9696f6cff1e6",
   "metadata": {},
   "source": [
    "La distribution de la fréquence des mots semble suivre une \"power law\", comme attendu (insérer [ref]). En effet, quelques mots sont présent plus que 20 fois dans le corpus (queue du graphique), et la majorité n'est présente qu'une ou deux fois (tête du graphique) "
   ]
  },
  {
   "cell_type": "markdown",
   "id": "54b4d459-3420-4d8d-aa52-34283aceea51",
   "metadata": {},
   "source": [
    "À présent, nous allons reproduire cette analyse mais en considérant séparément le corpus des poèmes humains et le corpus des poèmes artificiels"
   ]
  },
  {
   "cell_type": "code",
   "execution_count": 31,
   "id": "7ee4776f-73db-4dcf-a8aa-7ac53ebc99ec",
   "metadata": {},
   "outputs": [],
   "source": [
    "# les 5 premiers poemes sont les poemes humains et les 50 derniers les poèmes de chatGPT, ce qui facilite la division \n",
    "tokens_h = filtered_poems[:50]\n",
    "tokens_m = filtered_poems[50:100]\n",
    "\n",
    "words_h = dict()\n",
    "\n",
    "all_tokens_h = []\n",
    "\n",
    "for tokens in tokens_h:\n",
    "    all_tokens_h += tokens\n",
    "\n",
    "for token in all_tokens_h:\n",
    "    if token not in words_h.keys():\n",
    "        words_h[token] = 1\n",
    "    else:\n",
    "        words_h[token] += 1\n"
   ]
  },
  {
   "cell_type": "code",
   "execution_count": 35,
   "id": "d7411ab9-944d-4b95-a270-8069ba5c30ff",
   "metadata": {},
   "outputs": [],
   "source": [
    "words_m = dict()\n",
    "\n",
    "all_tokens_m = []\n",
    "\n",
    "for tokens in tokens_m:\n",
    "    all_tokens_m += tokens\n",
    "\n",
    "for token in all_tokens_m:\n",
    "    if token not in words_m.keys():\n",
    "        words_m[token] = 1\n",
    "    else:\n",
    "        words_m[token] += 1\n"
   ]
  },
  {
   "cell_type": "code",
   "execution_count": 39,
   "id": "268829e9-ddb9-48fe-91e5-4403e3cd0456",
   "metadata": {},
   "outputs": [
    {
     "data": {
      "image/png": "[encoded data removed]",
      "text/plain": [
       "<Figure size 1000x500 with 2 Axes>"
      ]
     },
     "metadata": {},
     "output_type": "display_data"
    }
   ],
   "source": [
    "# visualisation de la distribution des mots : comparaison entre corpus humain et machine\n",
    "\n",
    "# Get the values for the human poems (HP) distribution\n",
    "valh = list(words_h.values())\n",
    "\n",
    "# Get the values for the chatGPT poems (MP) distribution\n",
    "valm = list(words_m.values())\n",
    "\n",
    "# Set the same range for both distributions\n",
    "range_ = (0, max(max(valh), max(valm)))\n",
    "\n",
    "# Create a figure with two subplots\n",
    "fig, (ax1, ax2) = plt.subplots(ncols=2, figsize=(10,5))\n",
    "\n",
    "# Plot the first distribution in the first subplot\n",
    "ax1.hist(valh, bins=100, range=range_)\n",
    "ax1.set_xlabel(\"Nombre d'occurences des mots dans le corpus\")\n",
    "ax1.set_ylabel('Nombre de mots à cette fréquence')\n",
    "ax1.set_title('Fréquence des mots - Poèmes humains')\n",
    "ax1.set_yscale('log')\n",
    "\n",
    "# Plot the second distribution in the second subplot\n",
    "ax2.hist(valm, bins=100, range=range_)\n",
    "ax2.set_xlabel(\"Nombre d'occurences des mots dans le corpus\")\n",
    "ax2.set_ylabel('Nombre de mots à cette fréquence')\n",
    "ax2.set_title('Fréquence des mots - Poèmes ChatGPT')\n",
    "ax2.set_yscale('log')\n",
    "\n",
    "# Show the plot\n",
    "plt.show()"
   ]
  },
  {
   "cell_type": "markdown",
   "id": "3f5ef17f-63ca-4893-ad82-1d5cc8e73ad0",
   "metadata": {},
   "source": [
    "La queue du graphique des poèmes chatGPT semble plus longue. Cette différence soutiendrait notre hypothèse selon laquelle les poèmes artificielles utiliseraient plus souvent les mêmes mots, et dès lors auraient une variabilité de vocabulaire moindre."
   ]
  },
  {
   "cell_type": "code",
   "execution_count": null,
   "id": "cc773a7b-38f8-4fcd-94cb-b944c450ab2e",
   "metadata": {},
   "outputs": [],
   "source": [
    "# effectuer un test statistique pour voir si cette différence est significative "
   ]
  },
  {
   "cell_type": "markdown",
   "id": "ffcc3527-1fb5-4d1e-ad13-073ae732e8e1",
   "metadata": {},
   "source": [
    "Nous allons à présent tester la variabilité du vocabulaire au sein des poèmes."
   ]
  },
  {
   "cell_type": "code",
   "execution_count": 43,
   "id": "5e24f8c3-3116-4c77-81f2-b4131efb0027",
   "metadata": {},
   "outputs": [
    {
     "data": {
      "text/html": [
       "<div>\n",
       "<style scoped>\n",
       "    .dataframe tbody tr th:only-of-type {\n",
       "        vertical-align: middle;\n",
       "    }\n",
       "\n",
       "    .dataframe tbody tr th {\n",
       "        vertical-align: top;\n",
       "    }\n",
       "\n",
       "    .dataframe thead th {\n",
       "        text-align: right;\n",
       "    }\n",
       "</style>\n",
       "<table border=\"1\" class=\"dataframe\">\n",
       "  <thead>\n",
       "    <tr style=\"text-align: right;\">\n",
       "      <th></th>\n",
       "      <th>poem_text</th>\n",
       "      <th>human_machine</th>\n",
       "      <th>reference</th>\n",
       "      <th>tokens</th>\n",
       "    </tr>\n",
       "  </thead>\n",
       "  <tbody>\n",
       "    <tr>\n",
       "      <th>9</th>\n",
       "      <td>Je pense à toi, Myrtho, divine enchanteresse,\\...</td>\n",
       "      <td>H</td>\n",
       "      <td>Gérard de Nerval, Myrtho</td>\n",
       "      <td>[pense, myrtho, divine, enchanteresse, pausili...</td>\n",
       "    </tr>\n",
       "    <tr>\n",
       "      <th>63</th>\n",
       "      <td>La lune argentée éclaire le jardin,\\nEt le ven...</td>\n",
       "      <td>M</td>\n",
       "      <td>ChatGPT</td>\n",
       "      <td>[lune, argentée, éclaire, jardin, vent, doux, ...</td>\n",
       "    </tr>\n",
       "    <tr>\n",
       "      <th>95</th>\n",
       "      <td>L'Amour, ce dieu puissant qui règne sur nos cœ...</td>\n",
       "      <td>M</td>\n",
       "      <td>ChatGPT</td>\n",
       "      <td>[l'amour, dieu, puissant, règne, cœurs, a, fai...</td>\n",
       "    </tr>\n",
       "    <tr>\n",
       "      <th>52</th>\n",
       "      <td>Sur la plage de sable, je marche en solitaire\\...</td>\n",
       "      <td>M</td>\n",
       "      <td>ChatGPT</td>\n",
       "      <td>[plage, sable, marche, solitaire, bruit, vague...</td>\n",
       "    </tr>\n",
       "    <tr>\n",
       "      <th>72</th>\n",
       "      <td>La belle de mes rêves, où es-tu cachée ?\\nDans...</td>\n",
       "      <td>M</td>\n",
       "      <td>ChatGPT</td>\n",
       "      <td>[belle, rêves, où, es-tu, cachée, quel, jardin...</td>\n",
       "    </tr>\n",
       "  </tbody>\n",
       "</table>\n",
       "</div>"
      ],
      "text/plain": [
       "                                            poem_text human_machine  \\\n",
       "9   Je pense à toi, Myrtho, divine enchanteresse,\\...             H   \n",
       "63  La lune argentée éclaire le jardin,\\nEt le ven...             M   \n",
       "95  L'Amour, ce dieu puissant qui règne sur nos cœ...             M   \n",
       "52  Sur la plage de sable, je marche en solitaire\\...             M   \n",
       "72  La belle de mes rêves, où es-tu cachée ?\\nDans...             M   \n",
       "\n",
       "                   reference  \\\n",
       "9   Gérard de Nerval, Myrtho   \n",
       "63                   ChatGPT   \n",
       "95                   ChatGPT   \n",
       "52                   ChatGPT   \n",
       "72                   ChatGPT   \n",
       "\n",
       "                                               tokens  \n",
       "9   [pense, myrtho, divine, enchanteresse, pausili...  \n",
       "63  [lune, argentée, éclaire, jardin, vent, doux, ...  \n",
       "95  [l'amour, dieu, puissant, règne, cœurs, a, fai...  \n",
       "52  [plage, sable, marche, solitaire, bruit, vague...  \n",
       "72  [belle, rêves, où, es-tu, cachée, quel, jardin...  "
      ]
     },
     "execution_count": 43,
     "metadata": {},
     "output_type": "execute_result"
    }
   ],
   "source": [
    "# la liste 'filtered_poems' contient les tokens filtrés de tous les poèmes dans l'ordre. \n",
    "# Nous allons dès lors l'ajouter comme une colonne à notre df_poems\n",
    "\n",
    "df_poems['tokens'] = filtered_poems\n",
    "df_poems.sample(5)"
   ]
  },
  {
   "cell_type": "code",
   "execution_count": 50,
   "id": "713324a5-06af-4960-ba28-4d2db60ebceb",
   "metadata": {},
   "outputs": [
    {
     "data": {
      "text/html": [
       "<div>\n",
       "<style scoped>\n",
       "    .dataframe tbody tr th:only-of-type {\n",
       "        vertical-align: middle;\n",
       "    }\n",
       "\n",
       "    .dataframe tbody tr th {\n",
       "        vertical-align: top;\n",
       "    }\n",
       "\n",
       "    .dataframe thead th {\n",
       "        text-align: right;\n",
       "    }\n",
       "</style>\n",
       "<table border=\"1\" class=\"dataframe\">\n",
       "  <thead>\n",
       "    <tr style=\"text-align: right;\">\n",
       "      <th></th>\n",
       "      <th>poem_text</th>\n",
       "      <th>human_machine</th>\n",
       "      <th>reference</th>\n",
       "      <th>tokens</th>\n",
       "      <th>repetitions</th>\n",
       "      <th>nb_tokens</th>\n",
       "      <th>ratio_rep_len</th>\n",
       "    </tr>\n",
       "  </thead>\n",
       "  <tbody>\n",
       "    <tr>\n",
       "      <th>34</th>\n",
       "      <td>Quand j'étais jeune et fier et que j'ouvrais m...</td>\n",
       "      <td>H</td>\n",
       "      <td>Et chacun de ces flots roule un peu de mon cœur.</td>\n",
       "      <td>[quand, j'étais, jeune, fier, j'ouvrais, ailes...</td>\n",
       "      <td>9</td>\n",
       "      <td>95</td>\n",
       "      <td>0.094737</td>\n",
       "    </tr>\n",
       "    <tr>\n",
       "      <th>45</th>\n",
       "      <td>Ils me disent, tes yeux, clairs comme le crist...</td>\n",
       "      <td>H</td>\n",
       "      <td>Charles Baudelaire, Sonnet d'automne</td>\n",
       "      <td>[disent, yeux, clairs, comme, cristal, », biza...</td>\n",
       "      <td>5</td>\n",
       "      <td>73</td>\n",
       "      <td>0.068493</td>\n",
       "    </tr>\n",
       "    <tr>\n",
       "      <th>84</th>\n",
       "      <td>Chère amie, ton regard clair comme l'aube,\\nIl...</td>\n",
       "      <td>M</td>\n",
       "      <td>ChatGPT</td>\n",
       "      <td>[chère, amie, regard, clair, comme, l'aube, il...</td>\n",
       "      <td>3</td>\n",
       "      <td>59</td>\n",
       "      <td>0.050847</td>\n",
       "    </tr>\n",
       "    <tr>\n",
       "      <th>99</th>\n",
       "      <td>L'heure douce approche et tout devient calme,\\...</td>\n",
       "      <td>M</td>\n",
       "      <td>ChatGPT</td>\n",
       "      <td>[l'heure, douce, approche, tout, devient, calm...</td>\n",
       "      <td>3</td>\n",
       "      <td>60</td>\n",
       "      <td>0.050000</td>\n",
       "    </tr>\n",
       "    <tr>\n",
       "      <th>71</th>\n",
       "      <td>L'onde, en silence, glisse sous le bateau\\nEt ...</td>\n",
       "      <td>M</td>\n",
       "      <td>ChatGPT</td>\n",
       "      <td>[l'onde, silence, glisse, sous, bateau, perdu,...</td>\n",
       "      <td>2</td>\n",
       "      <td>50</td>\n",
       "      <td>0.040000</td>\n",
       "    </tr>\n",
       "  </tbody>\n",
       "</table>\n",
       "</div>"
      ],
      "text/plain": [
       "                                            poem_text human_machine  \\\n",
       "34  Quand j'étais jeune et fier et que j'ouvrais m...             H   \n",
       "45  Ils me disent, tes yeux, clairs comme le crist...             H   \n",
       "84  Chère amie, ton regard clair comme l'aube,\\nIl...             M   \n",
       "99  L'heure douce approche et tout devient calme,\\...             M   \n",
       "71  L'onde, en silence, glisse sous le bateau\\nEt ...             M   \n",
       "\n",
       "                                           reference  \\\n",
       "34  Et chacun de ces flots roule un peu de mon cœur.   \n",
       "45              Charles Baudelaire, Sonnet d'automne   \n",
       "84                                           ChatGPT   \n",
       "99                                           ChatGPT   \n",
       "71                                           ChatGPT   \n",
       "\n",
       "                                               tokens  repetitions  nb_tokens  \\\n",
       "34  [quand, j'étais, jeune, fier, j'ouvrais, ailes...            9         95   \n",
       "45  [disent, yeux, clairs, comme, cristal, », biza...            5         73   \n",
       "84  [chère, amie, regard, clair, comme, l'aube, il...            3         59   \n",
       "99  [l'heure, douce, approche, tout, devient, calm...            3         60   \n",
       "71  [l'onde, silence, glisse, sous, bateau, perdu,...            2         50   \n",
       "\n",
       "    ratio_rep_len  \n",
       "34       0.094737  \n",
       "45       0.068493  \n",
       "84       0.050847  \n",
       "99       0.050000  \n",
       "71       0.040000  "
      ]
     },
     "execution_count": 50,
     "metadata": {},
     "output_type": "execute_result"
    }
   ],
   "source": [
    "# a présent, nous voulons compter les répétitions de ces tokens pour chaque poème. \n",
    "# Cela revient à compter combien de mots sont répétés plusieurs fois au sein du même poème.\n",
    "\n",
    "# fonction lambda pour compter les répétitions dans une liste\n",
    "count_repeats = lambda x: sum([1 for i in set(x) if x.count(i) > 1])\n",
    "\n",
    "# Application de cette fonction lambda sur les listes de tokens\n",
    "df_poems['repetitions'] = df_poems['tokens'].apply(count_repeats)\n",
    "\n",
    "# Colonne pour indiquer le nombre de tokens par poème\n",
    "df_poems['nb_tokens'] = df_poems['tokens'].apply(len)\n",
    "\n",
    "# Ratio du nombre de répétition en fonction de la longueur du poème\n",
    "calc_ratio = lambda x: x['repetitions'] / x['nb_tokens']\n",
    "df_poems['ratio_rep_len'] = df_poems.apply(calc_ratio, axis=1)\n",
    "\n",
    "df_poems.sample(5)"
   ]
  },
  {
   "cell_type": "code",
   "execution_count": 56,
   "id": "33c5e2aa-3f4c-430f-82f4-bcd1abe84220",
   "metadata": {},
   "outputs": [
    {
     "name": "stdout",
     "output_type": "stream",
     "text": [
      "Mean length:\n",
      "Human poems: 57.582\n",
      "Machine poems: 56.789\n",
      "----------------------------------\n",
      "Mean number of repetitions:\n",
      "Human poems: 11.061\n",
      "Machine poems: 10.719\n",
      "----------------------------------\n",
      "Mean ratio (rep/len):\n",
      "Human poems: 6.314\n",
      "Machine poems: 6.312\n"
     ]
    }
   ],
   "source": [
    "# nous allons à présent comparer les valeurs de ces nouvelles colonnes\n",
    "# le but est de voir si l'on observe des différences significatives entre les poèmes naturels (PN) et les poèmes artificielles (PA).\n",
    "\n",
    "df_h = df_poems[df_poems['human_machine']=='H']\n",
    "df_m = df_poems[df_poems['human_machine']=='M']\n",
    "\n",
    "rep_stats_h = df_h['repetitions'].describe()\n",
    "len_stats_h = df_h['nb_tokens'].describe()\n",
    "ratio_stats_h = df_h['ratio_rep_len'].describe()\n",
    "\n",
    "rep_stats_m = df_m['repetitions'].describe()\n",
    "len_stats_m = df_m['nb_tokens'].describe()\n",
    "ratio_stats_m = df_m['ratio_rep_len'].describe()\n",
    "\n",
    "print('Mean length:')\n",
    "print(f'Human poems: {len_stats_h.mean():.3f}')\n",
    "print(f'Machine poems: {len_stats_m.mean():.3f}')\n",
    "print('----------------------------------')\n",
    "print('Mean number of repetitions:')\n",
    "print(f'Human poems: {rep_stats_h.mean():.3f}')\n",
    "print(f'Machine poems: {rep_stats_m.mean():.3f}')\n",
    "print('----------------------------------')\n",
    "print('Mean ratio (rep/len):')\n",
    "print(f'Human poems: {ratio_stats_h.mean():.3f}')\n",
    "print(f'Machine poems: {ratio_stats_m.mean():.3f}')\n"
   ]
  },
  {
   "cell_type": "markdown",
   "id": "c41ca72b-2726-49cc-a289-7ce0995ef7de",
   "metadata": {},
   "source": [
    "Le ratio moyen entre le nombre de répétition et la longueur du poème est de 6.3 pour les PN comme pour les PA. Il n'y a donc apparemment pas de différence significative à ce niveau.\n",
    "\n",
    "Ces brèves analyses descriptives suggèrent que la variabilité du vocabulaire au sein d'un poème serait la même pour les PN et les PA, mais qu'en général, les PA utilisent plus souvent les mêmes mots (cf. comparaison des distributions de fréquences).\n",
    "\n",
    "Ceci pourrait-il être dû au fait que les PA génèrent plus souvent des poèmes sur les mêmes thèmes? \n",
    "--> Plus d'analyses sont requises."
   ]
  },
  {
   "cell_type": "markdown",
   "id": "6f2389ba-2602-4b9f-8814-c9a2ec081caa",
   "metadata": {},
   "source": [
    "## 2. Analyse thématique "
   ]
  },
  {
   "cell_type": "code",
   "execution_count": null,
   "id": "1532c1e1-9a18-4978-b43a-f3644b16ed16",
   "metadata": {},
   "outputs": [],
   "source": [
    "# A FAIRE"
   ]
  }
 ],
 "metadata": {
  "kernelspec": {
   "display_name": "Python 3 (ipykernel)",
   "language": "python",
   "name": "python3"
  },
  "language_info": {
   "codemirror_mode": {
    "name": "ipython",
    "version": 3
   },
   "file_extension": ".py",
   "mimetype": "text/x-python",
   "name": "python",
   "nbconvert_exporter": "python",
   "pygments_lexer": "ipython3",
   "version": "3.9.2"
  }
 },
 "nbformat": 4,
 "nbformat_minor": 5
}
