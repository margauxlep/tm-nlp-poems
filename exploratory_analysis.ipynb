{
 "cells": [
  {
   "cell_type": "markdown",
   "id": "8602fcc1-d92c-4c62-bb1f-ff1f607022cb",
   "metadata": {},
   "source": [
    "# Poèmes humains et poèmes générés par ChatGPT : une analyse comparative"
   ]
  },
  {
   "cell_type": "markdown",
   "id": "8c926fc3-ca74-41bc-a73d-1c924c230d5b",
   "metadata": {},
   "source": [
    "## 1. Analyse exploratoire "
   ]
  },
  {
   "cell_type": "markdown",
   "id": "5e7b7652-e395-4b38-ae2d-1a3ecbde06f3",
   "metadata": {},
   "source": [
    "### 1.1 Importation des poèmes "
   ]
  },
  {
   "cell_type": "code",
   "execution_count": 3,
   "id": "19649237-079a-497e-9bfb-01d941ef50a6",
   "metadata": {},
   "outputs": [],
   "source": [
    "# useful imports \n",
    "import pandas as pd\n",
    "import glob"
   ]
  },
  {
   "cell_type": "code",
   "execution_count": 4,
   "id": "7ff5c6ce-d8d0-43e1-896d-e293732318b3",
   "metadata": {},
   "outputs": [],
   "source": [
    "# création de deux listes de fichiers\n",
    "human_poems = glob.glob('poems_humans/*.txt')\n",
    "chatgpt_poems = glob.glob('poems_chatGPT/*.txt')"
   ]
  },
  {
   "cell_type": "code",
   "execution_count": 5,
   "id": "13117fe8-c0ef-4add-be0e-8386957b2256",
   "metadata": {},
   "outputs": [],
   "source": [
    "# on supprime les deux fichiers template qui ne sont pas des poèmes \n",
    "human_poems.remove('poems_humans/z_temp.txt')\n",
    "chatgpt_poems.remove('poems_chatGPT/z_temp.txt')"
   ]
  },
  {
   "cell_type": "code",
   "execution_count": 6,
   "id": "e5a24f16-bc26-4fdc-84d9-a88b897f1982",
   "metadata": {},
   "outputs": [],
   "source": [
    "df_poems = pd.DataFrame(columns=['poem_text', 'human_machine'])"
   ]
  },
  {
   "cell_type": "code",
   "execution_count": 7,
   "id": "35543f92-2676-487f-922e-7e6d62910293",
   "metadata": {},
   "outputs": [],
   "source": [
    "# insertion des poèmes dans une dataframe.\n",
    "for idx, poem_f in enumerate(human_poems):\n",
    "    poem_lines = open(poem_f, 'r').readlines()\n",
    "    poem = \"\"\n",
    "    for verse in poem_lines:\n",
    "        poem += verse\n",
    "    \n",
    "    df_poems.loc[idx, 'poem_text'] = poem\n",
    "    # création d'une colonne \"human_machine\" qui spécifie si le poème vient d'un humain ou d'une machine\n",
    "    df_poems.loc[idx, 'human_machine'] = 'H'"
   ]
  },
  {
   "cell_type": "code",
   "execution_count": 8,
   "id": "851d092e-9b48-48b3-bdad-f9d64cc8ca30",
   "metadata": {},
   "outputs": [],
   "source": [
    "for idx, poem_f in enumerate(chatgpt_poems):\n",
    "    poem_lines = open(poem_f, 'r').readlines()\n",
    "    poem = \"\"\n",
    "    for verse in poem_lines:\n",
    "        poem += verse  \n",
    "    df_poems.loc[idx +50, 'poem_text'] = poem\n",
    "    df_poems.loc[idx +50, 'human_machine'] = 'M'"
   ]
  },
  {
   "cell_type": "code",
   "execution_count": 9,
   "id": "5478054e-b8e4-4120-b1a5-d6be32e908d2",
   "metadata": {},
   "outputs": [
    {
     "data": {
      "text/plain": [
       "100"
      ]
     },
     "execution_count": 9,
     "metadata": {},
     "output_type": "execute_result"
    }
   ],
   "source": [
    "len(df_poems.index)"
   ]
  },
  {
   "cell_type": "code",
   "execution_count": 10,
   "id": "a786f0d9-dd3a-48a7-9ad3-cf7a0619b53f",
   "metadata": {},
   "outputs": [
    {
     "data": {
      "text/html": [
       "<div>\n",
       "<style scoped>\n",
       "    .dataframe tbody tr th:only-of-type {\n",
       "        vertical-align: middle;\n",
       "    }\n",
       "\n",
       "    .dataframe tbody tr th {\n",
       "        vertical-align: top;\n",
       "    }\n",
       "\n",
       "    .dataframe thead th {\n",
       "        text-align: right;\n",
       "    }\n",
       "</style>\n",
       "<table border=\"1\" class=\"dataframe\">\n",
       "  <thead>\n",
       "    <tr style=\"text-align: right;\">\n",
       "      <th></th>\n",
       "      <th>poem_text</th>\n",
       "      <th>human_machine</th>\n",
       "    </tr>\n",
       "  </thead>\n",
       "  <tbody>\n",
       "    <tr>\n",
       "      <th>6</th>\n",
       "      <td>« Ce roc voûté par art, chef-d’oeuvre d’un aut...</td>\n",
       "      <td>H</td>\n",
       "    </tr>\n",
       "    <tr>\n",
       "      <th>9</th>\n",
       "      <td>Je pense à toi, Myrtho, divine enchanteresse,\\...</td>\n",
       "      <td>H</td>\n",
       "    </tr>\n",
       "    <tr>\n",
       "      <th>14</th>\n",
       "      <td>C’est un large buffet sculpté ; le chêne sombr...</td>\n",
       "      <td>H</td>\n",
       "    </tr>\n",
       "    <tr>\n",
       "      <th>12</th>\n",
       "      <td>Napoléon mourant vit une Tête armée…\\nIl pensa...</td>\n",
       "      <td>H</td>\n",
       "    </tr>\n",
       "    <tr>\n",
       "      <th>88</th>\n",
       "      <td>Sous le ciel bleu d'un jour d'été ardent,\\nJe ...</td>\n",
       "      <td>M</td>\n",
       "    </tr>\n",
       "    <tr>\n",
       "      <th>8</th>\n",
       "      <td>L’Aurore brillante et vermeille\\nPrépare le ch...</td>\n",
       "      <td>H</td>\n",
       "    </tr>\n",
       "    <tr>\n",
       "      <th>11</th>\n",
       "      <td>Grand Dieu, qui vis les cieux se former sans m...</td>\n",
       "      <td>H</td>\n",
       "    </tr>\n",
       "    <tr>\n",
       "      <th>96</th>\n",
       "      <td>Dans les cieux, les étoiles brillent en chœur,...</td>\n",
       "      <td>M</td>\n",
       "    </tr>\n",
       "    <tr>\n",
       "      <th>82</th>\n",
       "      <td>Ô saison ô châteaux, ô rêves enchantés,\\nLes n...</td>\n",
       "      <td>M</td>\n",
       "    </tr>\n",
       "    <tr>\n",
       "      <th>94</th>\n",
       "      <td>Mon cher ami, je vais essayer\\nD'écrire un son...</td>\n",
       "      <td>M</td>\n",
       "    </tr>\n",
       "  </tbody>\n",
       "</table>\n",
       "</div>"
      ],
      "text/plain": [
       "                                            poem_text human_machine\n",
       "6   « Ce roc voûté par art, chef-d’oeuvre d’un aut...             H\n",
       "9   Je pense à toi, Myrtho, divine enchanteresse,\\...             H\n",
       "14  C’est un large buffet sculpté ; le chêne sombr...             H\n",
       "12  Napoléon mourant vit une Tête armée…\\nIl pensa...             H\n",
       "88  Sous le ciel bleu d'un jour d'été ardent,\\nJe ...             M\n",
       "8   L’Aurore brillante et vermeille\\nPrépare le ch...             H\n",
       "11  Grand Dieu, qui vis les cieux se former sans m...             H\n",
       "96  Dans les cieux, les étoiles brillent en chœur,...             M\n",
       "82  Ô saison ô châteaux, ô rêves enchantés,\\nLes n...             M\n",
       "94  Mon cher ami, je vais essayer\\nD'écrire un son...             M"
      ]
     },
     "execution_count": 10,
     "metadata": {},
     "output_type": "execute_result"
    }
   ],
   "source": [
    "df_poems.sample(10)"
   ]
  },
  {
   "cell_type": "markdown",
   "id": "53b9c0e6-a2d1-43c6-b5dc-56cfe5d53c06",
   "metadata": {},
   "source": [
    "### 1.2 Pre-processing du texte "
   ]
  },
  {
   "cell_type": "code",
   "execution_count": 19,
   "id": "75014908-7e22-4aac-aa52-4b0c5fa502af",
   "metadata": {},
   "outputs": [],
   "source": [
    "df_poems_backup = df_poems.copy()"
   ]
  },
  {
   "cell_type": "code",
   "execution_count": 20,
   "id": "24d4a6d7-5c91-4caf-a403-00c2c1aaed31",
   "metadata": {},
   "outputs": [
    {
     "data": {
      "text/html": [
       "<div>\n",
       "<style scoped>\n",
       "    .dataframe tbody tr th:only-of-type {\n",
       "        vertical-align: middle;\n",
       "    }\n",
       "\n",
       "    .dataframe tbody tr th {\n",
       "        vertical-align: top;\n",
       "    }\n",
       "\n",
       "    .dataframe thead th {\n",
       "        text-align: right;\n",
       "    }\n",
       "</style>\n",
       "<table border=\"1\" class=\"dataframe\">\n",
       "  <thead>\n",
       "    <tr style=\"text-align: right;\">\n",
       "      <th></th>\n",
       "      <th>poem_text</th>\n",
       "      <th>human_machine</th>\n",
       "      <th>reference</th>\n",
       "    </tr>\n",
       "  </thead>\n",
       "  <tbody>\n",
       "    <tr>\n",
       "      <th>0</th>\n",
       "      <td>Je ne viens pas ce soir vaincre ton corps, ô b...</td>\n",
       "      <td>H</td>\n",
       "      <td></td>\n",
       "    </tr>\n",
       "    <tr>\n",
       "      <th>1</th>\n",
       "      <td>gargarisme astronomique\\nvibre vibre vibre vib...</td>\n",
       "      <td>H</td>\n",
       "      <td></td>\n",
       "    </tr>\n",
       "    <tr>\n",
       "      <th>2</th>\n",
       "      <td>Ô rare fleur, ô fleur de luxe et de décor,\\nSu...</td>\n",
       "      <td>H</td>\n",
       "      <td></td>\n",
       "    </tr>\n",
       "    <tr>\n",
       "      <th>3</th>\n",
       "      <td>Le ballon bleu de la pendule\\nEt les petits ni...</td>\n",
       "      <td>H</td>\n",
       "      <td></td>\n",
       "    </tr>\n",
       "    <tr>\n",
       "      <th>4</th>\n",
       "      <td>Sur les murs des petits bourgs, des hameaux pe...</td>\n",
       "      <td>H</td>\n",
       "      <td></td>\n",
       "    </tr>\n",
       "  </tbody>\n",
       "</table>\n",
       "</div>"
      ],
      "text/plain": [
       "                                           poem_text human_machine reference\n",
       "0  Je ne viens pas ce soir vaincre ton corps, ô b...             H          \n",
       "1  gargarisme astronomique\\nvibre vibre vibre vib...             H          \n",
       "2  Ô rare fleur, ô fleur de luxe et de décor,\\nSu...             H          \n",
       "3  Le ballon bleu de la pendule\\nEt les petits ni...             H          \n",
       "4  Sur les murs des petits bourgs, des hameaux pe...             H          "
      ]
     },
     "execution_count": 20,
     "metadata": {},
     "output_type": "execute_result"
    }
   ],
   "source": [
    "df_poems['reference'] = ''\n",
    "df_poems.head()"
   ]
  },
  {
   "cell_type": "code",
   "execution_count": 21,
   "id": "4923bc20-2ecb-43a2-bbfa-6f4e140f53c4",
   "metadata": {},
   "outputs": [
    {
     "data": {
      "text/html": [
       "<div>\n",
       "<style scoped>\n",
       "    .dataframe tbody tr th:only-of-type {\n",
       "        vertical-align: middle;\n",
       "    }\n",
       "\n",
       "    .dataframe tbody tr th {\n",
       "        vertical-align: top;\n",
       "    }\n",
       "\n",
       "    .dataframe thead th {\n",
       "        text-align: right;\n",
       "    }\n",
       "</style>\n",
       "<table border=\"1\" class=\"dataframe\">\n",
       "  <thead>\n",
       "    <tr style=\"text-align: right;\">\n",
       "      <th></th>\n",
       "      <th>poem_text</th>\n",
       "      <th>human_machine</th>\n",
       "      <th>reference</th>\n",
       "    </tr>\n",
       "  </thead>\n",
       "  <tbody>\n",
       "    <tr>\n",
       "      <th>0</th>\n",
       "      <td>Je ne viens pas ce soir vaincre ton corps, ô b...</td>\n",
       "      <td>H</td>\n",
       "      <td>Stéphane Mallarmé, Angoisse</td>\n",
       "    </tr>\n",
       "    <tr>\n",
       "      <th>1</th>\n",
       "      <td>gargarisme astronomique\\nvibre vibre vibre vib...</td>\n",
       "      <td>H</td>\n",
       "      <td>Tristan Tzara, Mouvement</td>\n",
       "    </tr>\n",
       "    <tr>\n",
       "      <th>2</th>\n",
       "      <td>Ô rare fleur, ô fleur de luxe et de décor,\\nSu...</td>\n",
       "      <td>H</td>\n",
       "      <td>François Coppée, Poèmes divers, 1869</td>\n",
       "    </tr>\n",
       "    <tr>\n",
       "      <th>3</th>\n",
       "      <td>Le ballon bleu de la pendule\\nEt les petits ni...</td>\n",
       "      <td>H</td>\n",
       "      <td>André Breton, Titre</td>\n",
       "    </tr>\n",
       "    <tr>\n",
       "      <th>4</th>\n",
       "      <td>Sur les murs des petits bourgs, des hameaux pe...</td>\n",
       "      <td>H</td>\n",
       "      <td>André Breton, Constellation</td>\n",
       "    </tr>\n",
       "  </tbody>\n",
       "</table>\n",
       "</div>"
      ],
      "text/plain": [
       "                                           poem_text human_machine  \\\n",
       "0  Je ne viens pas ce soir vaincre ton corps, ô b...             H   \n",
       "1  gargarisme astronomique\\nvibre vibre vibre vib...             H   \n",
       "2  Ô rare fleur, ô fleur de luxe et de décor,\\nSu...             H   \n",
       "3  Le ballon bleu de la pendule\\nEt les petits ni...             H   \n",
       "4  Sur les murs des petits bourgs, des hameaux pe...             H   \n",
       "\n",
       "                              reference  \n",
       "0           Stéphane Mallarmé, Angoisse  \n",
       "1              Tristan Tzara, Mouvement  \n",
       "2  François Coppée, Poèmes divers, 1869  \n",
       "3                   André Breton, Titre  \n",
       "4           André Breton, Constellation  "
      ]
     },
     "execution_count": 21,
     "metadata": {},
     "output_type": "execute_result"
    }
   ],
   "source": [
    "# enlever la dernière ligne des poemes humains et la store dans une nouvelle colonne \"reference\" \n",
    "for idx, poem in enumerate(df_poems.poem_text):\n",
    "    splt= poem.rsplit(\"\\n\", 1)\n",
    "    df_poems.loc[idx, 'reference'] = splt[1]\n",
    "    df_poems.loc[idx, 'poem_text'] = splt[0]\n",
    "\n",
    "df_poems.head()"
   ]
  },
  {
   "cell_type": "code",
   "execution_count": 23,
   "id": "8d021ff8-5a00-40a6-bd16-dd43911a9c3f",
   "metadata": {},
   "outputs": [
    {
     "data": {
      "text/html": [
       "<div>\n",
       "<style scoped>\n",
       "    .dataframe tbody tr th:only-of-type {\n",
       "        vertical-align: middle;\n",
       "    }\n",
       "\n",
       "    .dataframe tbody tr th {\n",
       "        vertical-align: top;\n",
       "    }\n",
       "\n",
       "    .dataframe thead th {\n",
       "        text-align: right;\n",
       "    }\n",
       "</style>\n",
       "<table border=\"1\" class=\"dataframe\">\n",
       "  <thead>\n",
       "    <tr style=\"text-align: right;\">\n",
       "      <th></th>\n",
       "      <th>poem_text</th>\n",
       "      <th>human_machine</th>\n",
       "      <th>reference</th>\n",
       "    </tr>\n",
       "  </thead>\n",
       "  <tbody>\n",
       "    <tr>\n",
       "      <th>17</th>\n",
       "      <td>A noir, E blanc, I rouge, U vert, O bleu : voy...</td>\n",
       "      <td>H</td>\n",
       "      <td>Arthur Rimbaud, Voyelles</td>\n",
       "    </tr>\n",
       "    <tr>\n",
       "      <th>43</th>\n",
       "      <td>Lundi 8 février ma biche\\nMa biche part\\nSuis ...</td>\n",
       "      <td>H</td>\n",
       "      <td>Guillaume, Apollinaire, Sonnet du 8 février</td>\n",
       "    </tr>\n",
       "    <tr>\n",
       "      <th>78</th>\n",
       "      <td>Mon cher ami, je suis une intelligence artific...</td>\n",
       "      <td>M</td>\n",
       "      <td>ChatGPT</td>\n",
       "    </tr>\n",
       "    <tr>\n",
       "      <th>88</th>\n",
       "      <td>Sous le ciel bleu d'un jour d'été ardent,\\nJe ...</td>\n",
       "      <td>M</td>\n",
       "      <td>ChatGPT</td>\n",
       "    </tr>\n",
       "    <tr>\n",
       "      <th>15</th>\n",
       "      <td>Le noir roc courroucé que la bise le roule\\nNe...</td>\n",
       "      <td>H</td>\n",
       "      <td>Stéphane Mallarmé, Tombeau</td>\n",
       "    </tr>\n",
       "  </tbody>\n",
       "</table>\n",
       "</div>"
      ],
      "text/plain": [
       "                                            poem_text human_machine  \\\n",
       "17  A noir, E blanc, I rouge, U vert, O bleu : voy...             H   \n",
       "43  Lundi 8 février ma biche\\nMa biche part\\nSuis ...             H   \n",
       "78  Mon cher ami, je suis une intelligence artific...             M   \n",
       "88  Sous le ciel bleu d'un jour d'été ardent,\\nJe ...             M   \n",
       "15  Le noir roc courroucé que la bise le roule\\nNe...             H   \n",
       "\n",
       "                                      reference  \n",
       "17                     Arthur Rimbaud, Voyelles  \n",
       "43  Guillaume, Apollinaire, Sonnet du 8 février  \n",
       "78                                      ChatGPT  \n",
       "88                                      ChatGPT  \n",
       "15                   Stéphane Mallarmé, Tombeau  "
      ]
     },
     "execution_count": 23,
     "metadata": {},
     "output_type": "execute_result"
    }
   ],
   "source": [
    "# attribuer la valeur \"chatGPT\" à toutes les cellules de du subset \"Machine\" pour la colonne \"reference\"\n",
    "\n",
    "for idx, row in df_poems.iterrows():\n",
    "    if row.human_machine == 'M':\n",
    "        df_poems.loc[idx, 'reference'] = 'ChatGPT'\n",
    "\n",
    "df_poems.sample(5)\n"
   ]
  },
  {
   "cell_type": "code",
   "execution_count": 24,
   "id": "4866540e-bb3f-479f-9817-76dd4d4b34d5",
   "metadata": {},
   "outputs": [
    {
     "data": {
      "text/plain": [
       "'Je ne viens pas ce soir vaincre ton corps, ô bête\\nEn qui vont les péchés d’un peuple, ni creuser\\nDans tes cheveux impurs une triste tempête\\nSous l’incurable ennui que verse mon baiser:\\n\\nJe demande à ton lit le lourd sommeil sans songes\\nPlanant sous les rideaux inconnus du remords,\\nEt que tu peux goûter après tes noirs mensonges,\\nToi qui sur le néant en sais plus que les morts:\\n\\nCar le Vice, rongeant ma native noblesse,\\nM’a comme toi marqué de sa stérilité,\\nMais tandis que ton sein de pierre est habité\\n\\nPar un coeur que la dent d’aucun crime ne blesse,\\nJe fuis, pâle, défait, hanté par mon linceul,\\nAyant peur de mourir lorsque je couche seul.\\n'"
      ]
     },
     "execution_count": 24,
     "metadata": {},
     "output_type": "execute_result"
    }
   ],
   "source": [
    "df_poems.poem_text[0]"
   ]
  },
  {
   "cell_type": "code",
   "execution_count": null,
   "id": "1f61bacb-9bca-4311-800a-eeddc71ebc46",
   "metadata": {},
   "outputs": [],
   "source": [
    "# tokenizazion : TO DO \n"
   ]
  },
  {
   "cell_type": "code",
   "execution_count": null,
   "id": "9142e1f9-d268-4b16-9a32-1cccd2e93233",
   "metadata": {},
   "outputs": [],
   "source": [
    "# removal of stop words : TO DO "
   ]
  },
  {
   "cell_type": "markdown",
   "id": "6b54a899-5698-4884-af05-f69017c6e6d5",
   "metadata": {},
   "source": [
    "### 1.3 Variabilité du vocabulaire "
   ]
  },
  {
   "cell_type": "code",
   "execution_count": null,
   "id": "e5fb328b-14b2-4ac6-9560-06f4d1f1ee92",
   "metadata": {},
   "outputs": [],
   "source": []
  }
 ],
 "metadata": {
  "kernelspec": {
   "display_name": "Python 3 (ipykernel)",
   "language": "python",
   "name": "python3"
  },
  "language_info": {
   "codemirror_mode": {
    "name": "ipython",
    "version": 3
   },
   "file_extension": ".py",
   "mimetype": "text/x-python",
   "name": "python",
   "nbconvert_exporter": "python",
   "pygments_lexer": "ipython3",
   "version": "3.9.2"
  }
 },
 "nbformat": 4,
 "nbformat_minor": 5
}
